{
 "cells": [
  {
   "cell_type": "code",
   "execution_count": 22,
   "metadata": {},
   "outputs": [],
   "source": [
    "import json\n",
    "import pandas as pd\n",
    "import os"
   ]
  },
  {
   "cell_type": "code",
   "execution_count": 17,
   "metadata": {},
   "outputs": [
    {
     "data": {
      "text/plain": [
       "(6049, 5)"
      ]
     },
     "execution_count": 17,
     "metadata": {},
     "output_type": "execute_result"
    }
   ],
   "source": [
    "df_src.shape"
   ]
  },
  {
   "cell_type": "code",
   "execution_count": 18,
   "metadata": {},
   "outputs": [],
   "source": [
    "## 总共有0-15个文件，全部是上面的格式，改成for循环，保存到一个jsonl里面\n",
    "for i in range(16):\n",
    "    df_in = pd.read_json(f'test_ocr_image_swift_input_{i}.jsonl', lines=True).sort_values(by='response').reset_index(drop=True)\n",
    "    df_out = pd.read_json(f'test_ocr_image_swift_input_{i}_output.jsonl', lines=True).sort_values(by='labels').reset_index(drop=True)\n",
    "    df_in['content'] = df_out['response']\n",
    "    if i == 0:\n",
    "        df_all = df_in\n",
    "    else:\n",
    "        df_all = pd.concat([df_all, df_in], ignore_index=True)"
   ]
  },
  {
   "cell_type": "code",
   "execution_count": 23,
   "metadata": {},
   "outputs": [],
   "source": [
    "for index, row in df_all.iterrows():\n",
    "    pdf_name = row['pdf_name']\n",
    "    pdf_page = row['pdf_page']\n",
    "    content = row['content']\n",
    "    \n",
    "    # Create directory if it doesn't exist\n",
    "    directory = f'/data/coding/patent_qa/test/pdf_ocr/{pdf_name}'\n",
    "    os.makedirs(directory, exist_ok=True)\n",
    "    \n",
    "    # Write content to file\n",
    "    with open(f'{directory}/{pdf_page}.txt', 'w', encoding='utf-8') as f:\n",
    "        f.write(content)"
   ]
  }
 ],
 "metadata": {
  "kernelspec": {
   "display_name": "swift",
   "language": "python",
   "name": "python3"
  },
  "language_info": {
   "codemirror_mode": {
    "name": "ipython",
    "version": 3
   },
   "file_extension": ".py",
   "mimetype": "text/x-python",
   "name": "python",
   "nbconvert_exporter": "python",
   "pygments_lexer": "ipython3",
   "version": "3.10.16"
  }
 },
 "nbformat": 4,
 "nbformat_minor": 2
}
